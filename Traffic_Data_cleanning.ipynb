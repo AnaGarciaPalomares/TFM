{
 "cells": [
  {
   "cell_type": "markdown",
   "id": "7ca066f1",
   "metadata": {},
   "source": [
    "# DATA CLEANNING"
   ]
  },
  {
   "cell_type": "code",
   "execution_count": 1,
   "id": "79ff8a73",
   "metadata": {},
   "outputs": [],
   "source": [
    "import pandas as pd\n",
    "import numpy as np"
   ]
  },
  {
   "cell_type": "markdown",
   "id": "6e1a2fd7",
   "metadata": {},
   "source": [
    "### Analizamos los datos de accidentes"
   ]
  },
  {
   "cell_type": "code",
   "execution_count": 2,
   "id": "2e18d715",
   "metadata": {},
   "outputs": [],
   "source": [
    "path_acc_2019 = '/home/dsc/Master DS/TFM/TFM INFO/accidents/2019_Accidentalidad.csv'\n",
    "path_acc_2020 = '/home/dsc/Master DS/TFM/TFM INFO/accidents/2020_Accidentalidad.csv'\n",
    "path_acc_2021 = '/home/dsc/Master DS/TFM/TFM INFO/accidents/2021_Accidentalidad.csv'"
   ]
  },
  {
   "cell_type": "code",
   "execution_count": 3,
   "id": "02d33b1f",
   "metadata": {},
   "outputs": [],
   "source": [
    "accidents_2019 = pd.read_csv(path_acc_2019, sep = ';' )\n",
    "accidents_2020 = pd.read_csv(path_acc_2020, sep = ';' )\n",
    "accidents_2021 = pd.read_csv(path_acc_2021, sep = ';' )"
   ]
  },
  {
   "cell_type": "code",
   "execution_count": 4,
   "id": "39294117",
   "metadata": {},
   "outputs": [
    {
     "data": {
      "text/plain": [
       "Index(['num_expediente', 'fecha', 'hora', 'localizacion', 'numero',\n",
       "       'cod_distrito', 'distrito', 'tipo_accidente', 'estado_meteorológico',\n",
       "       'tipo_vehículo', 'tipo_persona', 'rango_edad', 'sexo', 'cod_lesividad',\n",
       "       'tipo_lesividad', 'coordenada_x_utm', 'coordenada_y_utm',\n",
       "       'positiva_alcohol', 'positiva_droga'],\n",
       "      dtype='object')"
      ]
     },
     "execution_count": 4,
     "metadata": {},
     "output_type": "execute_result"
    }
   ],
   "source": [
    "accidents_2019.columns"
   ]
  },
  {
   "cell_type": "code",
   "execution_count": 5,
   "id": "78d1aa62",
   "metadata": {},
   "outputs": [
    {
     "data": {
      "text/plain": [
       "Index(['num_expediente', 'fecha', 'hora', 'localizacion', 'numero',\n",
       "       'cod_distrito', 'distrito', 'tipo_accidente', 'estado_meteorológico',\n",
       "       'tipo_vehículo', 'tipo_persona', 'rango_edad', 'sexo', 'cod_lesividad',\n",
       "       'tipo_lesividad', 'coordenada_x_utm', 'coordenada_y_utm',\n",
       "       'positiva_alcohol', 'positiva_droga'],\n",
       "      dtype='object')"
      ]
     },
     "execution_count": 5,
     "metadata": {},
     "output_type": "execute_result"
    }
   ],
   "source": [
    "accidents_2020.columns"
   ]
  },
  {
   "cell_type": "code",
   "execution_count": 6,
   "id": "717e57d8",
   "metadata": {
    "scrolled": true
   },
   "outputs": [
    {
     "data": {
      "text/plain": [
       "Index(['num_expediente', 'fecha', 'hora', 'localizacion', 'numero',\n",
       "       'cod_distrito', 'distrito', 'tipo_accidente', 'estado_meteorológico',\n",
       "       'tipo_vehiculo', 'tipo_persona', 'rango_edad', 'sexo', 'cod_lesividad',\n",
       "       'lesividad', 'coordenada_x_utm', 'coordenada_y_utm', 'positiva_alcohol',\n",
       "       'positiva_droga'],\n",
       "      dtype='object')"
      ]
     },
     "execution_count": 6,
     "metadata": {},
     "output_type": "execute_result"
    }
   ],
   "source": [
    "accidents_2021.columns"
   ]
  },
  {
   "cell_type": "raw",
   "id": "d4f33d24",
   "metadata": {},
   "source": [
    "Vemos que todas la columnas coindicen a excepción de 'tipo_lesividad' en el dataset 'accidents_2021'. Procedemos a cambiar su nombre a fin de facilitar las acciones posteriores. "
   ]
  },
  {
   "cell_type": "code",
   "execution_count": 7,
   "id": "1370d37d",
   "metadata": {},
   "outputs": [],
   "source": [
    "accidents_2021 = accidents_2021.rename(columns={'lesividad':'tipo_lesividad'})"
   ]
  },
  {
   "cell_type": "code",
   "execution_count": 8,
   "id": "7c849d93",
   "metadata": {},
   "outputs": [
    {
     "data": {
      "text/plain": [
       "Index(['num_expediente', 'fecha', 'hora', 'localizacion', 'numero',\n",
       "       'cod_distrito', 'distrito', 'tipo_accidente', 'estado_meteorológico',\n",
       "       'tipo_vehiculo', 'tipo_persona', 'rango_edad', 'sexo', 'cod_lesividad',\n",
       "       'tipo_lesividad', 'coordenada_x_utm', 'coordenada_y_utm',\n",
       "       'positiva_alcohol', 'positiva_droga'],\n",
       "      dtype='object')"
      ]
     },
     "execution_count": 8,
     "metadata": {},
     "output_type": "execute_result"
    }
   ],
   "source": [
    "accidents_2021.columns"
   ]
  },
  {
   "cell_type": "raw",
   "id": "c635e6d1",
   "metadata": {},
   "source": [
    "Vamos a comprobar el tamaño de la muestra originaria, antes de realizar cualquier acción."
   ]
  },
  {
   "cell_type": "code",
   "execution_count": 9,
   "id": "8180fa43",
   "metadata": {},
   "outputs": [
    {
     "name": "stdout",
     "output_type": "stream",
     "text": [
      "(51811, 19)\n",
      "(32433, 19)\n",
      "(41783, 19)\n"
     ]
    }
   ],
   "source": [
    "print(accidents_2019.shape)\n",
    "print(accidents_2020.shape)\n",
    "print(accidents_2021.shape)"
   ]
  },
  {
   "cell_type": "raw",
   "id": "ecadadd2",
   "metadata": {},
   "source": [
    "Vamos a comprobar la existencia de Nans en nuestros datasets y en función del resultado nos plantearemos descartar alguna de las variables."
   ]
  },
  {
   "cell_type": "code",
   "execution_count": 10,
   "id": "13a7f00b",
   "metadata": {},
   "outputs": [],
   "source": [
    "columns_acc_2019 = accidents_2019.columns.str.strip()\n",
    "columns_acc_2020 = accidents_2020.columns.str.strip()\n",
    "columns_acc_2021 = accidents_2021.columns.str.strip()"
   ]
  },
  {
   "cell_type": "code",
   "execution_count": 11,
   "id": "80c76998",
   "metadata": {},
   "outputs": [],
   "source": [
    "accidents_2019_df = pd . DataFrame (accidents_2019 , columns = columns_acc_2019 )\n",
    "accidents_2020_df = pd . DataFrame (accidents_2020 , columns = columns_acc_2020 )\n",
    "accidents_2021_df = pd . DataFrame (accidents_2021 , columns = columns_acc_2021 )"
   ]
  },
  {
   "cell_type": "code",
   "execution_count": 12,
   "id": "f35a5698",
   "metadata": {},
   "outputs": [],
   "source": [
    "count_nan_2019_acc_df = accidents_2019_df[columns_acc_2019].isna().sum().reset_index()\n",
    "count_nan_2020_acc_df = accidents_2020_df[columns_acc_2020].isna().sum().reset_index()\n",
    "count_nan_2021_acc_df = accidents_2021_df[columns_acc_2021].isna().sum().reset_index()"
   ]
  },
  {
   "cell_type": "code",
   "execution_count": 13,
   "id": "56fcadb1",
   "metadata": {},
   "outputs": [
    {
     "data": {
      "text/html": [
       "<div>\n",
       "<style scoped>\n",
       "    .dataframe tbody tr th:only-of-type {\n",
       "        vertical-align: middle;\n",
       "    }\n",
       "\n",
       "    .dataframe tbody tr th {\n",
       "        vertical-align: top;\n",
       "    }\n",
       "\n",
       "    .dataframe thead tr th {\n",
       "        text-align: left;\n",
       "    }\n",
       "</style>\n",
       "<table border=\"1\" class=\"dataframe\">\n",
       "  <thead>\n",
       "    <tr>\n",
       "      <th></th>\n",
       "      <th colspan=\"2\" halign=\"left\">Nan_2019</th>\n",
       "      <th colspan=\"2\" halign=\"left\">Nan_2020</th>\n",
       "      <th colspan=\"2\" halign=\"left\">Nan_2021</th>\n",
       "    </tr>\n",
       "    <tr>\n",
       "      <th></th>\n",
       "      <th>index</th>\n",
       "      <th>0</th>\n",
       "      <th>index</th>\n",
       "      <th>0</th>\n",
       "      <th>index</th>\n",
       "      <th>0</th>\n",
       "    </tr>\n",
       "  </thead>\n",
       "  <tbody>\n",
       "    <tr>\n",
       "      <th>0</th>\n",
       "      <td>num_expediente</td>\n",
       "      <td>0</td>\n",
       "      <td>num_expediente</td>\n",
       "      <td>0</td>\n",
       "      <td>num_expediente</td>\n",
       "      <td>0</td>\n",
       "    </tr>\n",
       "    <tr>\n",
       "      <th>1</th>\n",
       "      <td>fecha</td>\n",
       "      <td>0</td>\n",
       "      <td>fecha</td>\n",
       "      <td>0</td>\n",
       "      <td>fecha</td>\n",
       "      <td>0</td>\n",
       "    </tr>\n",
       "    <tr>\n",
       "      <th>2</th>\n",
       "      <td>hora</td>\n",
       "      <td>0</td>\n",
       "      <td>hora</td>\n",
       "      <td>0</td>\n",
       "      <td>hora</td>\n",
       "      <td>0</td>\n",
       "    </tr>\n",
       "    <tr>\n",
       "      <th>3</th>\n",
       "      <td>localizacion</td>\n",
       "      <td>0</td>\n",
       "      <td>localizacion</td>\n",
       "      <td>0</td>\n",
       "      <td>localizacion</td>\n",
       "      <td>0</td>\n",
       "    </tr>\n",
       "    <tr>\n",
       "      <th>4</th>\n",
       "      <td>numero</td>\n",
       "      <td>0</td>\n",
       "      <td>numero</td>\n",
       "      <td>2</td>\n",
       "      <td>numero</td>\n",
       "      <td>3</td>\n",
       "    </tr>\n",
       "    <tr>\n",
       "      <th>5</th>\n",
       "      <td>cod_distrito</td>\n",
       "      <td>0</td>\n",
       "      <td>cod_distrito</td>\n",
       "      <td>2</td>\n",
       "      <td>cod_distrito</td>\n",
       "      <td>3</td>\n",
       "    </tr>\n",
       "    <tr>\n",
       "      <th>6</th>\n",
       "      <td>distrito</td>\n",
       "      <td>0</td>\n",
       "      <td>distrito</td>\n",
       "      <td>2</td>\n",
       "      <td>distrito</td>\n",
       "      <td>3</td>\n",
       "    </tr>\n",
       "    <tr>\n",
       "      <th>7</th>\n",
       "      <td>tipo_accidente</td>\n",
       "      <td>0</td>\n",
       "      <td>tipo_accidente</td>\n",
       "      <td>0</td>\n",
       "      <td>tipo_accidente</td>\n",
       "      <td>4</td>\n",
       "    </tr>\n",
       "    <tr>\n",
       "      <th>8</th>\n",
       "      <td>estado_meteorológico</td>\n",
       "      <td>5130</td>\n",
       "      <td>estado_meteorológico</td>\n",
       "      <td>3196</td>\n",
       "      <td>estado_meteorológico</td>\n",
       "      <td>4428</td>\n",
       "    </tr>\n",
       "    <tr>\n",
       "      <th>9</th>\n",
       "      <td>tipo_vehículo</td>\n",
       "      <td>176</td>\n",
       "      <td>tipo_vehículo</td>\n",
       "      <td>137</td>\n",
       "      <td>tipo_vehiculo</td>\n",
       "      <td>54</td>\n",
       "    </tr>\n",
       "    <tr>\n",
       "      <th>10</th>\n",
       "      <td>tipo_persona</td>\n",
       "      <td>0</td>\n",
       "      <td>tipo_persona</td>\n",
       "      <td>0</td>\n",
       "      <td>tipo_persona</td>\n",
       "      <td>3</td>\n",
       "    </tr>\n",
       "    <tr>\n",
       "      <th>11</th>\n",
       "      <td>rango_edad</td>\n",
       "      <td>0</td>\n",
       "      <td>rango_edad</td>\n",
       "      <td>0</td>\n",
       "      <td>rango_edad</td>\n",
       "      <td>0</td>\n",
       "    </tr>\n",
       "    <tr>\n",
       "      <th>12</th>\n",
       "      <td>sexo</td>\n",
       "      <td>0</td>\n",
       "      <td>sexo</td>\n",
       "      <td>0</td>\n",
       "      <td>sexo</td>\n",
       "      <td>0</td>\n",
       "    </tr>\n",
       "    <tr>\n",
       "      <th>13</th>\n",
       "      <td>cod_lesividad</td>\n",
       "      <td>21769</td>\n",
       "      <td>cod_lesividad</td>\n",
       "      <td>14802</td>\n",
       "      <td>cod_lesividad</td>\n",
       "      <td>18964</td>\n",
       "    </tr>\n",
       "    <tr>\n",
       "      <th>14</th>\n",
       "      <td>tipo_lesividad</td>\n",
       "      <td>21769</td>\n",
       "      <td>tipo_lesividad</td>\n",
       "      <td>14802</td>\n",
       "      <td>tipo_lesividad</td>\n",
       "      <td>18964</td>\n",
       "    </tr>\n",
       "    <tr>\n",
       "      <th>15</th>\n",
       "      <td>coordenada_x_utm</td>\n",
       "      <td>0</td>\n",
       "      <td>coordenada_x_utm</td>\n",
       "      <td>2</td>\n",
       "      <td>coordenada_x_utm</td>\n",
       "      <td>9</td>\n",
       "    </tr>\n",
       "    <tr>\n",
       "      <th>16</th>\n",
       "      <td>coordenada_y_utm</td>\n",
       "      <td>0</td>\n",
       "      <td>coordenada_y_utm</td>\n",
       "      <td>2</td>\n",
       "      <td>coordenada_y_utm</td>\n",
       "      <td>9</td>\n",
       "    </tr>\n",
       "    <tr>\n",
       "      <th>17</th>\n",
       "      <td>positiva_alcohol</td>\n",
       "      <td>109</td>\n",
       "      <td>positiva_alcohol</td>\n",
       "      <td>102</td>\n",
       "      <td>positiva_alcohol</td>\n",
       "      <td>167</td>\n",
       "    </tr>\n",
       "    <tr>\n",
       "      <th>18</th>\n",
       "      <td>positiva_droga</td>\n",
       "      <td>51649</td>\n",
       "      <td>positiva_droga</td>\n",
       "      <td>32351</td>\n",
       "      <td>positiva_droga</td>\n",
       "      <td>41694</td>\n",
       "    </tr>\n",
       "  </tbody>\n",
       "</table>\n",
       "</div>"
      ],
      "text/plain": [
       "                Nan_2019                     Nan_2020         \\\n",
       "                   index      0                 index      0   \n",
       "0         num_expediente      0        num_expediente      0   \n",
       "1                  fecha      0                 fecha      0   \n",
       "2                   hora      0                  hora      0   \n",
       "3           localizacion      0          localizacion      0   \n",
       "4                 numero      0                numero      2   \n",
       "5           cod_distrito      0          cod_distrito      2   \n",
       "6               distrito      0              distrito      2   \n",
       "7         tipo_accidente      0        tipo_accidente      0   \n",
       "8   estado_meteorológico   5130  estado_meteorológico   3196   \n",
       "9          tipo_vehículo    176         tipo_vehículo    137   \n",
       "10          tipo_persona      0          tipo_persona      0   \n",
       "11            rango_edad      0            rango_edad      0   \n",
       "12                  sexo      0                  sexo      0   \n",
       "13         cod_lesividad  21769         cod_lesividad  14802   \n",
       "14        tipo_lesividad  21769        tipo_lesividad  14802   \n",
       "15      coordenada_x_utm      0      coordenada_x_utm      2   \n",
       "16      coordenada_y_utm      0      coordenada_y_utm      2   \n",
       "17      positiva_alcohol    109      positiva_alcohol    102   \n",
       "18        positiva_droga  51649        positiva_droga  32351   \n",
       "\n",
       "                Nan_2021         \n",
       "                   index      0  \n",
       "0         num_expediente      0  \n",
       "1                  fecha      0  \n",
       "2                   hora      0  \n",
       "3           localizacion      0  \n",
       "4                 numero      3  \n",
       "5           cod_distrito      3  \n",
       "6               distrito      3  \n",
       "7         tipo_accidente      4  \n",
       "8   estado_meteorológico   4428  \n",
       "9          tipo_vehiculo     54  \n",
       "10          tipo_persona      3  \n",
       "11            rango_edad      0  \n",
       "12                  sexo      0  \n",
       "13         cod_lesividad  18964  \n",
       "14        tipo_lesividad  18964  \n",
       "15      coordenada_x_utm      9  \n",
       "16      coordenada_y_utm      9  \n",
       "17      positiva_alcohol    167  \n",
       "18        positiva_droga  41694  "
      ]
     },
     "execution_count": 13,
     "metadata": {},
     "output_type": "execute_result"
    }
   ],
   "source": [
    "count_nan_acc_df = pd.concat([count_nan_2019_acc_df,count_nan_2020_acc_df,count_nan_2021_acc_df],axis=1,\n",
    "                             keys=['Nan_2019','Nan_2020','Nan_2021']) \n",
    "count_nan_acc_df"
   ]
  },
  {
   "cell_type": "raw",
   "id": "90fa43f0",
   "metadata": {},
   "source": [
    "Por los resultados obtenidos en la ocurrencia de Nans procedemos a descartar las siguientes variables:\n",
    "    - Estado meteorológico\n",
    "    - Código de lesividad\n",
    "    - Lesividad\n",
    "    - Positividad en drogas\n",
    "\n",
    "Adicionalmente vamos a eliminar tambien las siguientes variables, ya que no aportan información extrapolable:\n",
    "    - Localización\n",
    "    - Número"
   ]
  },
  {
   "cell_type": "code",
   "execution_count": 14,
   "id": "05353d62",
   "metadata": {},
   "outputs": [],
   "source": [
    "variables_to_drop = ['estado_meteorológico','cod_lesividad','tipo_lesividad','positiva_droga',\n",
    "                     'localizacion','numero']"
   ]
  },
  {
   "cell_type": "code",
   "execution_count": 15,
   "id": "a76b2300",
   "metadata": {},
   "outputs": [],
   "source": [
    "accidents_2019_df_clean = accidents_2019_df.drop(variables_to_drop, axis=1)\n",
    "accidents_2020_df_clean = accidents_2020_df.drop(variables_to_drop, axis=1)\n",
    "accidents_2021_df_clean = accidents_2021_df.drop(variables_to_drop, axis=1)"
   ]
  },
  {
   "cell_type": "code",
   "execution_count": 16,
   "id": "8f8780dc",
   "metadata": {},
   "outputs": [],
   "source": [
    "acc_2019 = accidents_2019_df_clean.dropna()\n",
    "acc_2020 = accidents_2020_df_clean.dropna()\n",
    "acc_2021 = accidents_2021_df_clean.dropna()"
   ]
  },
  {
   "cell_type": "code",
   "execution_count": 17,
   "id": "534502e9",
   "metadata": {},
   "outputs": [
    {
     "name": "stdout",
     "output_type": "stream",
     "text": [
      "(51811, 19)\n",
      "(51547, 13)\n",
      "(32433, 19)\n",
      "(32207, 13)\n",
      "(41783, 19)\n",
      "(41552, 13)\n"
     ]
    }
   ],
   "source": [
    "print(accidents_2019.shape)\n",
    "print(acc_2019.shape)\n",
    "print(accidents_2020.shape)\n",
    "print(acc_2020.shape)\n",
    "print(accidents_2021.shape)\n",
    "print(acc_2021.shape)"
   ]
  },
  {
   "cell_type": "markdown",
   "id": "2efa21c1",
   "metadata": {},
   "source": [
    "Antes de fusionar los ficheros de siniestralidad, quiero comprobar lo siguiente:\n",
    "    - nº expediente: Confirmar que el año del expediente coincide con la fecha\n",
    "        Según la información de la fuente, la estructura del número de expediente atiende a:\n",
    "        AAAASNNNNNN\n",
    "            AAAA: año, S: expediente con accidente, NNNNNN: nº correlativo por año\n",
    "            Puede haber varios expendientes con el mismo numero, uno para cada afectado\n",
    "    - categorias de:\n",
    "        - Tipo de accidente\n",
    "        - Tipo de vehiculo\n",
    "        - Tipo de persona\n",
    "        - Rango de edad\n",
    "        - Sexo\n",
    "        - Positivo en alcohol"
   ]
  },
  {
   "cell_type": "code",
   "execution_count": 18,
   "id": "29b2077d",
   "metadata": {},
   "outputs": [],
   "source": [
    "import datetime"
   ]
  },
  {
   "cell_type": "code",
   "execution_count": 19,
   "id": "22aab76e",
   "metadata": {
    "scrolled": false
   },
   "outputs": [
    {
     "name": "stderr",
     "output_type": "stream",
     "text": [
      "/tmp/ipykernel_4855/2218043062.py:1: SettingWithCopyWarning: \n",
      "A value is trying to be set on a copy of a slice from a DataFrame.\n",
      "Try using .loc[row_indexer,col_indexer] = value instead\n",
      "\n",
      "See the caveats in the documentation: https://pandas.pydata.org/pandas-docs/stable/user_guide/indexing.html#returning-a-view-versus-a-copy\n",
      "  acc_2019['year_date'] = pd.DatetimeIndex(acc_2019['fecha']).year.astype(int)\n",
      "/tmp/ipykernel_4855/2218043062.py:2: SettingWithCopyWarning: \n",
      "A value is trying to be set on a copy of a slice from a DataFrame.\n",
      "Try using .loc[row_indexer,col_indexer] = value instead\n",
      "\n",
      "See the caveats in the documentation: https://pandas.pydata.org/pandas-docs/stable/user_guide/indexing.html#returning-a-view-versus-a-copy\n",
      "  acc_2019['year_exp'] = acc_2019['num_expediente'].str[:4].astype(int)\n",
      "/tmp/ipykernel_4855/2218043062.py:3: SettingWithCopyWarning: \n",
      "A value is trying to be set on a copy of a slice from a DataFrame.\n",
      "Try using .loc[row_indexer,col_indexer] = value instead\n",
      "\n",
      "See the caveats in the documentation: https://pandas.pydata.org/pandas-docs/stable/user_guide/indexing.html#returning-a-view-versus-a-copy\n",
      "  acc_2019['year_equal_cond'] =acc_2019['year_exp']-(acc_2019['year_date'])\n"
     ]
    },
    {
     "data": {
      "text/html": [
       "<div>\n",
       "<style scoped>\n",
       "    .dataframe tbody tr th:only-of-type {\n",
       "        vertical-align: middle;\n",
       "    }\n",
       "\n",
       "    .dataframe tbody tr th {\n",
       "        vertical-align: top;\n",
       "    }\n",
       "\n",
       "    .dataframe thead th {\n",
       "        text-align: right;\n",
       "    }\n",
       "</style>\n",
       "<table border=\"1\" class=\"dataframe\">\n",
       "  <thead>\n",
       "    <tr style=\"text-align: right;\">\n",
       "      <th></th>\n",
       "      <th>year_equal_cond</th>\n",
       "      <th>num_expediente</th>\n",
       "    </tr>\n",
       "  </thead>\n",
       "  <tbody>\n",
       "    <tr>\n",
       "      <th>0</th>\n",
       "      <td>-1</td>\n",
       "      <td>2</td>\n",
       "    </tr>\n",
       "    <tr>\n",
       "      <th>1</th>\n",
       "      <td>0</td>\n",
       "      <td>51545</td>\n",
       "    </tr>\n",
       "  </tbody>\n",
       "</table>\n",
       "</div>"
      ],
      "text/plain": [
       "   year_equal_cond  num_expediente\n",
       "0               -1               2\n",
       "1                0           51545"
      ]
     },
     "execution_count": 19,
     "metadata": {},
     "output_type": "execute_result"
    }
   ],
   "source": [
    "acc_2019['year_date'] = pd.DatetimeIndex(acc_2019['fecha']).year.astype(int)\n",
    "acc_2019['year_exp'] = acc_2019['num_expediente'].str[:4].astype(int)\n",
    "acc_2019['year_equal_cond'] =acc_2019['year_exp']-(acc_2019['year_date'])\n",
    "acc_2019.groupby('year_equal_cond')['num_expediente'].count().reset_index()"
   ]
  },
  {
   "cell_type": "code",
   "execution_count": null,
   "id": "b7f371e9",
   "metadata": {
    "scrolled": true
   },
   "outputs": [],
   "source": [
    "# accidents_2019_df_clean['year_equal'] =accidents_2019_df_clean['year_exp'].equals(accidents_2019_df_clean['year_date'])\n",
    "# accidents_2019_df_clean.head()"
   ]
  },
  {
   "cell_type": "code",
   "execution_count": 20,
   "id": "54684834",
   "metadata": {},
   "outputs": [
    {
     "name": "stderr",
     "output_type": "stream",
     "text": [
      "/tmp/ipykernel_4855/1015613943.py:1: SettingWithCopyWarning: \n",
      "A value is trying to be set on a copy of a slice from a DataFrame.\n",
      "Try using .loc[row_indexer,col_indexer] = value instead\n",
      "\n",
      "See the caveats in the documentation: https://pandas.pydata.org/pandas-docs/stable/user_guide/indexing.html#returning-a-view-versus-a-copy\n",
      "  acc_2020['year_date'] = pd.DatetimeIndex(acc_2020['fecha']).year.astype(int)\n",
      "/tmp/ipykernel_4855/1015613943.py:2: SettingWithCopyWarning: \n",
      "A value is trying to be set on a copy of a slice from a DataFrame.\n",
      "Try using .loc[row_indexer,col_indexer] = value instead\n",
      "\n",
      "See the caveats in the documentation: https://pandas.pydata.org/pandas-docs/stable/user_guide/indexing.html#returning-a-view-versus-a-copy\n",
      "  acc_2020['year_exp'] = acc_2020['num_expediente'].str[:4].astype(int)\n",
      "/tmp/ipykernel_4855/1015613943.py:3: SettingWithCopyWarning: \n",
      "A value is trying to be set on a copy of a slice from a DataFrame.\n",
      "Try using .loc[row_indexer,col_indexer] = value instead\n",
      "\n",
      "See the caveats in the documentation: https://pandas.pydata.org/pandas-docs/stable/user_guide/indexing.html#returning-a-view-versus-a-copy\n",
      "  acc_2020['year_equal_cond'] =acc_2020['year_exp']-(acc_2020['year_date'])\n"
     ]
    },
    {
     "data": {
      "text/html": [
       "<div>\n",
       "<style scoped>\n",
       "    .dataframe tbody tr th:only-of-type {\n",
       "        vertical-align: middle;\n",
       "    }\n",
       "\n",
       "    .dataframe tbody tr th {\n",
       "        vertical-align: top;\n",
       "    }\n",
       "\n",
       "    .dataframe thead th {\n",
       "        text-align: right;\n",
       "    }\n",
       "</style>\n",
       "<table border=\"1\" class=\"dataframe\">\n",
       "  <thead>\n",
       "    <tr style=\"text-align: right;\">\n",
       "      <th></th>\n",
       "      <th>year_equal_cond</th>\n",
       "      <th>num_expediente</th>\n",
       "    </tr>\n",
       "  </thead>\n",
       "  <tbody>\n",
       "    <tr>\n",
       "      <th>0</th>\n",
       "      <td>-1</td>\n",
       "      <td>2</td>\n",
       "    </tr>\n",
       "    <tr>\n",
       "      <th>1</th>\n",
       "      <td>0</td>\n",
       "      <td>32205</td>\n",
       "    </tr>\n",
       "  </tbody>\n",
       "</table>\n",
       "</div>"
      ],
      "text/plain": [
       "   year_equal_cond  num_expediente\n",
       "0               -1               2\n",
       "1                0           32205"
      ]
     },
     "execution_count": 20,
     "metadata": {},
     "output_type": "execute_result"
    }
   ],
   "source": [
    "acc_2020['year_date'] = pd.DatetimeIndex(acc_2020['fecha']).year.astype(int)\n",
    "acc_2020['year_exp'] = acc_2020['num_expediente'].str[:4].astype(int)\n",
    "acc_2020['year_equal_cond'] =acc_2020['year_exp']-(acc_2020['year_date'])\n",
    "acc_2020.groupby('year_equal_cond')['num_expediente'].count().reset_index()"
   ]
  },
  {
   "cell_type": "code",
   "execution_count": 21,
   "id": "765391c1",
   "metadata": {},
   "outputs": [
    {
     "name": "stderr",
     "output_type": "stream",
     "text": [
      "/tmp/ipykernel_4855/2576626057.py:1: SettingWithCopyWarning: \n",
      "A value is trying to be set on a copy of a slice from a DataFrame.\n",
      "Try using .loc[row_indexer,col_indexer] = value instead\n",
      "\n",
      "See the caveats in the documentation: https://pandas.pydata.org/pandas-docs/stable/user_guide/indexing.html#returning-a-view-versus-a-copy\n",
      "  acc_2021['year_date'] = pd.DatetimeIndex(acc_2021['fecha']).year.astype(int)\n",
      "/tmp/ipykernel_4855/2576626057.py:2: SettingWithCopyWarning: \n",
      "A value is trying to be set on a copy of a slice from a DataFrame.\n",
      "Try using .loc[row_indexer,col_indexer] = value instead\n",
      "\n",
      "See the caveats in the documentation: https://pandas.pydata.org/pandas-docs/stable/user_guide/indexing.html#returning-a-view-versus-a-copy\n",
      "  acc_2021['year_exp'] = acc_2021['num_expediente'].str[:4].astype(int)\n",
      "/tmp/ipykernel_4855/2576626057.py:3: SettingWithCopyWarning: \n",
      "A value is trying to be set on a copy of a slice from a DataFrame.\n",
      "Try using .loc[row_indexer,col_indexer] = value instead\n",
      "\n",
      "See the caveats in the documentation: https://pandas.pydata.org/pandas-docs/stable/user_guide/indexing.html#returning-a-view-versus-a-copy\n",
      "  acc_2021['year_equal_cond'] =acc_2021['year_exp']-(acc_2021['year_date'])\n"
     ]
    },
    {
     "data": {
      "text/html": [
       "<div>\n",
       "<style scoped>\n",
       "    .dataframe tbody tr th:only-of-type {\n",
       "        vertical-align: middle;\n",
       "    }\n",
       "\n",
       "    .dataframe tbody tr th {\n",
       "        vertical-align: top;\n",
       "    }\n",
       "\n",
       "    .dataframe thead th {\n",
       "        text-align: right;\n",
       "    }\n",
       "</style>\n",
       "<table border=\"1\" class=\"dataframe\">\n",
       "  <thead>\n",
       "    <tr style=\"text-align: right;\">\n",
       "      <th></th>\n",
       "      <th>year_equal_cond</th>\n",
       "      <th>num_expediente</th>\n",
       "    </tr>\n",
       "  </thead>\n",
       "  <tbody>\n",
       "    <tr>\n",
       "      <th>0</th>\n",
       "      <td>-1</td>\n",
       "      <td>5</td>\n",
       "    </tr>\n",
       "    <tr>\n",
       "      <th>1</th>\n",
       "      <td>0</td>\n",
       "      <td>41547</td>\n",
       "    </tr>\n",
       "  </tbody>\n",
       "</table>\n",
       "</div>"
      ],
      "text/plain": [
       "   year_equal_cond  num_expediente\n",
       "0               -1               5\n",
       "1                0           41547"
      ]
     },
     "execution_count": 21,
     "metadata": {},
     "output_type": "execute_result"
    }
   ],
   "source": [
    "acc_2021['year_date'] = pd.DatetimeIndex(acc_2021['fecha']).year.astype(int)\n",
    "acc_2021['year_exp'] = acc_2021['num_expediente'].str[:4].astype(int)\n",
    "acc_2021['year_equal_cond'] =acc_2021['year_exp']-(acc_2021['year_date'])\n",
    "acc_2021.groupby('year_equal_cond')['num_expediente'].count().reset_index()"
   ]
  },
  {
   "cell_type": "raw",
   "id": "ca8e9ef3",
   "metadata": {},
   "source": [
    "Eliminamos las filas donde no coindicen ambos años\n",
    "Posteriormente, eliminaremos la columna de 'year expediente' y el de la condición"
   ]
  },
  {
   "cell_type": "code",
   "execution_count": 25,
   "id": "e6df3220",
   "metadata": {},
   "outputs": [],
   "source": [
    "indexNames = acc_2019[ acc_2019['year_equal_cond'] == -1 ].index"
   ]
  },
  {
   "cell_type": "code",
   "execution_count": 26,
   "id": "47512f04",
   "metadata": {},
   "outputs": [],
   "source": [
    "acc_2019.drop(indexNames,inplace=True)"
   ]
  },
  {
   "cell_type": "code",
   "execution_count": 27,
   "id": "256d9dbb",
   "metadata": {},
   "outputs": [],
   "source": [
    "acc_2019.drop(['year_equal_cond','year_exp'],axis=1,inplace=True)"
   ]
  },
  {
   "cell_type": "code",
   "execution_count": 33,
   "id": "0039ea24",
   "metadata": {},
   "outputs": [
    {
     "ename": "KeyError",
     "evalue": "'year_equal_cond'",
     "output_type": "error",
     "traceback": [
      "\u001b[0;31m---------------------------------------------------------------------------\u001b[0m",
      "\u001b[0;31mKeyError\u001b[0m                                  Traceback (most recent call last)",
      "\u001b[0;32m~/anaconda3/lib/python3.8/site-packages/pandas/core/indexes/base.py\u001b[0m in \u001b[0;36mget_loc\u001b[0;34m(self, key, method, tolerance)\u001b[0m\n\u001b[1;32m   3360\u001b[0m             \u001b[0;32mtry\u001b[0m\u001b[0;34m:\u001b[0m\u001b[0;34m\u001b[0m\u001b[0;34m\u001b[0m\u001b[0m\n\u001b[0;32m-> 3361\u001b[0;31m                 \u001b[0;32mreturn\u001b[0m \u001b[0mself\u001b[0m\u001b[0;34m.\u001b[0m\u001b[0m_engine\u001b[0m\u001b[0;34m.\u001b[0m\u001b[0mget_loc\u001b[0m\u001b[0;34m(\u001b[0m\u001b[0mcasted_key\u001b[0m\u001b[0;34m)\u001b[0m\u001b[0;34m\u001b[0m\u001b[0;34m\u001b[0m\u001b[0m\n\u001b[0m\u001b[1;32m   3362\u001b[0m             \u001b[0;32mexcept\u001b[0m \u001b[0mKeyError\u001b[0m \u001b[0;32mas\u001b[0m \u001b[0merr\u001b[0m\u001b[0;34m:\u001b[0m\u001b[0;34m\u001b[0m\u001b[0;34m\u001b[0m\u001b[0m\n",
      "\u001b[0;32m~/anaconda3/lib/python3.8/site-packages/pandas/_libs/index.pyx\u001b[0m in \u001b[0;36mpandas._libs.index.IndexEngine.get_loc\u001b[0;34m()\u001b[0m\n",
      "\u001b[0;32m~/anaconda3/lib/python3.8/site-packages/pandas/_libs/index.pyx\u001b[0m in \u001b[0;36mpandas._libs.index.IndexEngine.get_loc\u001b[0;34m()\u001b[0m\n",
      "\u001b[0;32mpandas/_libs/hashtable_class_helper.pxi\u001b[0m in \u001b[0;36mpandas._libs.hashtable.PyObjectHashTable.get_item\u001b[0;34m()\u001b[0m\n",
      "\u001b[0;32mpandas/_libs/hashtable_class_helper.pxi\u001b[0m in \u001b[0;36mpandas._libs.hashtable.PyObjectHashTable.get_item\u001b[0;34m()\u001b[0m\n",
      "\u001b[0;31mKeyError\u001b[0m: 'year_equal_cond'",
      "\nThe above exception was the direct cause of the following exception:\n",
      "\u001b[0;31mKeyError\u001b[0m                                  Traceback (most recent call last)",
      "\u001b[0;32m/tmp/ipykernel_4855/1015618987.py\u001b[0m in \u001b[0;36m<module>\u001b[0;34m\u001b[0m\n\u001b[0;32m----> 1\u001b[0;31m \u001b[0mcond_year_2020\u001b[0m \u001b[0;34m=\u001b[0m \u001b[0macc_2020\u001b[0m\u001b[0;34m[\u001b[0m\u001b[0macc_2020\u001b[0m\u001b[0;34m[\u001b[0m\u001b[0;34m'year_equal_cond'\u001b[0m\u001b[0;34m]\u001b[0m\u001b[0;34m==\u001b[0m\u001b[0;34m-\u001b[0m\u001b[0;36m1\u001b[0m\u001b[0;34m]\u001b[0m\u001b[0;34m.\u001b[0m\u001b[0mindex\u001b[0m\u001b[0;34m\u001b[0m\u001b[0;34m\u001b[0m\u001b[0m\n\u001b[0m\u001b[1;32m      2\u001b[0m \u001b[0macc_2020\u001b[0m\u001b[0;34m.\u001b[0m\u001b[0mdrop\u001b[0m\u001b[0;34m(\u001b[0m\u001b[0mindexNames\u001b[0m\u001b[0;34m,\u001b[0m\u001b[0minplace\u001b[0m\u001b[0;34m=\u001b[0m\u001b[0;32mTrue\u001b[0m\u001b[0;34m)\u001b[0m\u001b[0;34m\u001b[0m\u001b[0;34m\u001b[0m\u001b[0m\n\u001b[1;32m      3\u001b[0m \u001b[0macc_2020\u001b[0m\u001b[0;34m.\u001b[0m\u001b[0mdrop\u001b[0m\u001b[0;34m(\u001b[0m\u001b[0;34m[\u001b[0m\u001b[0;34m'year_equal_cond'\u001b[0m\u001b[0;34m,\u001b[0m\u001b[0;34m'year_exp'\u001b[0m\u001b[0;34m]\u001b[0m\u001b[0;34m,\u001b[0m\u001b[0maxis\u001b[0m\u001b[0;34m=\u001b[0m\u001b[0;36m1\u001b[0m\u001b[0;34m,\u001b[0m\u001b[0minplace\u001b[0m\u001b[0;34m=\u001b[0m\u001b[0;32mTrue\u001b[0m\u001b[0;34m)\u001b[0m\u001b[0;34m\u001b[0m\u001b[0;34m\u001b[0m\u001b[0m\n",
      "\u001b[0;32m~/anaconda3/lib/python3.8/site-packages/pandas/core/frame.py\u001b[0m in \u001b[0;36m__getitem__\u001b[0;34m(self, key)\u001b[0m\n\u001b[1;32m   3456\u001b[0m             \u001b[0;32mif\u001b[0m \u001b[0mself\u001b[0m\u001b[0;34m.\u001b[0m\u001b[0mcolumns\u001b[0m\u001b[0;34m.\u001b[0m\u001b[0mnlevels\u001b[0m \u001b[0;34m>\u001b[0m \u001b[0;36m1\u001b[0m\u001b[0;34m:\u001b[0m\u001b[0;34m\u001b[0m\u001b[0;34m\u001b[0m\u001b[0m\n\u001b[1;32m   3457\u001b[0m                 \u001b[0;32mreturn\u001b[0m \u001b[0mself\u001b[0m\u001b[0;34m.\u001b[0m\u001b[0m_getitem_multilevel\u001b[0m\u001b[0;34m(\u001b[0m\u001b[0mkey\u001b[0m\u001b[0;34m)\u001b[0m\u001b[0;34m\u001b[0m\u001b[0;34m\u001b[0m\u001b[0m\n\u001b[0;32m-> 3458\u001b[0;31m             \u001b[0mindexer\u001b[0m \u001b[0;34m=\u001b[0m \u001b[0mself\u001b[0m\u001b[0;34m.\u001b[0m\u001b[0mcolumns\u001b[0m\u001b[0;34m.\u001b[0m\u001b[0mget_loc\u001b[0m\u001b[0;34m(\u001b[0m\u001b[0mkey\u001b[0m\u001b[0;34m)\u001b[0m\u001b[0;34m\u001b[0m\u001b[0;34m\u001b[0m\u001b[0m\n\u001b[0m\u001b[1;32m   3459\u001b[0m             \u001b[0;32mif\u001b[0m \u001b[0mis_integer\u001b[0m\u001b[0;34m(\u001b[0m\u001b[0mindexer\u001b[0m\u001b[0;34m)\u001b[0m\u001b[0;34m:\u001b[0m\u001b[0;34m\u001b[0m\u001b[0;34m\u001b[0m\u001b[0m\n\u001b[1;32m   3460\u001b[0m                 \u001b[0mindexer\u001b[0m \u001b[0;34m=\u001b[0m \u001b[0;34m[\u001b[0m\u001b[0mindexer\u001b[0m\u001b[0;34m]\u001b[0m\u001b[0;34m\u001b[0m\u001b[0;34m\u001b[0m\u001b[0m\n",
      "\u001b[0;32m~/anaconda3/lib/python3.8/site-packages/pandas/core/indexes/base.py\u001b[0m in \u001b[0;36mget_loc\u001b[0;34m(self, key, method, tolerance)\u001b[0m\n\u001b[1;32m   3361\u001b[0m                 \u001b[0;32mreturn\u001b[0m \u001b[0mself\u001b[0m\u001b[0;34m.\u001b[0m\u001b[0m_engine\u001b[0m\u001b[0;34m.\u001b[0m\u001b[0mget_loc\u001b[0m\u001b[0;34m(\u001b[0m\u001b[0mcasted_key\u001b[0m\u001b[0;34m)\u001b[0m\u001b[0;34m\u001b[0m\u001b[0;34m\u001b[0m\u001b[0m\n\u001b[1;32m   3362\u001b[0m             \u001b[0;32mexcept\u001b[0m \u001b[0mKeyError\u001b[0m \u001b[0;32mas\u001b[0m \u001b[0merr\u001b[0m\u001b[0;34m:\u001b[0m\u001b[0;34m\u001b[0m\u001b[0;34m\u001b[0m\u001b[0m\n\u001b[0;32m-> 3363\u001b[0;31m                 \u001b[0;32mraise\u001b[0m \u001b[0mKeyError\u001b[0m\u001b[0;34m(\u001b[0m\u001b[0mkey\u001b[0m\u001b[0;34m)\u001b[0m \u001b[0;32mfrom\u001b[0m \u001b[0merr\u001b[0m\u001b[0;34m\u001b[0m\u001b[0;34m\u001b[0m\u001b[0m\n\u001b[0m\u001b[1;32m   3364\u001b[0m \u001b[0;34m\u001b[0m\u001b[0m\n\u001b[1;32m   3365\u001b[0m         \u001b[0;32mif\u001b[0m \u001b[0mis_scalar\u001b[0m\u001b[0;34m(\u001b[0m\u001b[0mkey\u001b[0m\u001b[0;34m)\u001b[0m \u001b[0;32mand\u001b[0m \u001b[0misna\u001b[0m\u001b[0;34m(\u001b[0m\u001b[0mkey\u001b[0m\u001b[0;34m)\u001b[0m \u001b[0;32mand\u001b[0m \u001b[0;32mnot\u001b[0m \u001b[0mself\u001b[0m\u001b[0;34m.\u001b[0m\u001b[0mhasnans\u001b[0m\u001b[0;34m:\u001b[0m\u001b[0;34m\u001b[0m\u001b[0;34m\u001b[0m\u001b[0m\n",
      "\u001b[0;31mKeyError\u001b[0m: 'year_equal_cond'"
     ]
    }
   ],
   "source": [
    "cond_year_2020 = acc_2020[acc_2020['year_equal_cond']==-1].index\n",
    "acc_2020.drop(indexNames,inplace=True)\n",
    "acc_2020.drop(['year_equal_cond','year_exp'],axis=1,inplace=True)"
   ]
  },
  {
   "cell_type": "code",
   "execution_count": 32,
   "id": "c6331f0a",
   "metadata": {},
   "outputs": [
    {
     "data": {
      "text/plain": [
       "(32205, 14)"
      ]
     },
     "execution_count": 32,
     "metadata": {},
     "output_type": "execute_result"
    }
   ],
   "source": [
    "acc_2020.shape"
   ]
  },
  {
   "cell_type": "code",
   "execution_count": null,
   "id": "436de79f",
   "metadata": {},
   "outputs": [],
   "source": [
    "accidents_2019_df_clean['is_equal_year'] ="
   ]
  },
  {
   "cell_type": "code",
   "execution_count": null,
   "id": "17f942c8",
   "metadata": {},
   "outputs": [],
   "source": [
    "accidents_2019_df_clean.head()"
   ]
  },
  {
   "cell_type": "code",
   "execution_count": null,
   "id": "c7a60128",
   "metadata": {},
   "outputs": [],
   "source": [
    "accidents_2019_df_clean['year_date'] = accidents_2019_df_clean['Joined date'].dt.strftime('%Y')"
   ]
  },
  {
   "cell_type": "code",
   "execution_count": null,
   "id": "b76ef72e",
   "metadata": {},
   "outputs": [],
   "source": [
    "arrrridents_2019_df_clean.rr"
   ]
  },
  {
   "cell_type": "code",
   "execution_count": null,
   "id": "c5c70939",
   "metadata": {},
   "outputs": [],
   "source": []
  },
  {
   "cell_type": "code",
   "execution_count": null,
   "id": "35c151dc",
   "metadata": {},
   "outputs": [],
   "source": []
  },
  {
   "cell_type": "code",
   "execution_count": null,
   "id": "92ae8dc3",
   "metadata": {},
   "outputs": [],
   "source": []
  },
  {
   "cell_type": "code",
   "execution_count": null,
   "id": "f7a0a8e5",
   "metadata": {},
   "outputs": [],
   "source": [
    "var_analize = ['tipo_accidente', 'tipo_vehículo', 'tipo_persona', 'rango_edad',\n",
    "               'sexo','positiva_alcohol']"
   ]
  },
  {
   "cell_type": "code",
   "execution_count": null,
   "id": "0c07e5f5",
   "metadata": {},
   "outputs": [],
   "source": [
    "accidents_2019_df_clean['tipo_accidente'].unique()"
   ]
  },
  {
   "cell_type": "raw",
   "id": "2402f1f1",
   "metadata": {},
   "source": [
    "Una vez que ya hemos comprobado que las categorias de ambos ficheros son las mismas para dichas variables, procedemos a fusionarlos en un únique dataset:"
   ]
  },
  {
   "cell_type": "code",
   "execution_count": null,
   "id": "9b129c09",
   "metadata": {},
   "outputs": [],
   "source": []
  },
  {
   "cell_type": "code",
   "execution_count": null,
   "id": "7582b293",
   "metadata": {},
   "outputs": [],
   "source": []
  },
  {
   "cell_type": "code",
   "execution_count": null,
   "id": "5dcb26d2",
   "metadata": {},
   "outputs": [],
   "source": [
    "measure_points['distrito'].unique()"
   ]
  },
  {
   "cell_type": "code",
   "execution_count": null,
   "id": "128cbec7",
   "metadata": {},
   "outputs": [],
   "source": [
    "accidents_2019_df_clean.columns"
   ]
  },
  {
   "cell_type": "code",
   "execution_count": null,
   "id": "eb53ac9a",
   "metadata": {},
   "outputs": [],
   "source": [
    "accidents_2020_df[('distrito')].unique()"
   ]
  },
  {
   "cell_type": "code",
   "execution_count": null,
   "id": "d319fca6",
   "metadata": {},
   "outputs": [],
   "source": [
    "measure_points=pd.read_csv('/home/dsc/Master DS/TFM/TFM INFO/measure points/pmed_ubicacion_12-2021.csv', sep = ';' )"
   ]
  },
  {
   "cell_type": "code",
   "execution_count": null,
   "id": "59c592dc",
   "metadata": {},
   "outputs": [],
   "source": [
    "measure_points.head()"
   ]
  },
  {
   "cell_type": "code",
   "execution_count": null,
   "id": "1865e6fc",
   "metadata": {},
   "outputs": [],
   "source": [
    "accidents_2019_df_clean.shape"
   ]
  },
  {
   "cell_type": "code",
   "execution_count": null,
   "id": "f6edd11c",
   "metadata": {},
   "outputs": [],
   "source": []
  },
  {
   "cell_type": "code",
   "execution_count": null,
   "id": "55a8bc87",
   "metadata": {},
   "outputs": [],
   "source": [
    "accidents_2020_df['contador'] = 1\n",
    "accidents_2021_df['contador'] = 1"
   ]
  },
  {
   "cell_type": "code",
   "execution_count": null,
   "id": "7f8a280d",
   "metadata": {},
   "outputs": [],
   "source": [
    "accidents_2020_df.isnull().sum()"
   ]
  },
  {
   "cell_type": "code",
   "execution_count": null,
   "id": "1dbc6fef",
   "metadata": {},
   "outputs": [],
   "source": [
    "accidents_2021_df.isnull().sum()"
   ]
  },
  {
   "cell_type": "markdown",
   "id": "b240a53a",
   "metadata": {},
   "source": [
    "Data cleaning\n",
    "(datos a eliminar de las muestras para aligerar el peso del archivo)"
   ]
  },
  {
   "cell_type": "raw",
   "id": "93a1690e",
   "metadata": {},
   "source": [
    "Analizando los valores Nan contenidos en las muestras, vemos que las features 'codigo lesividad', 'tipo lesividad' y 'positivo droga' no son extrapolables "
   ]
  },
  {
   "cell_type": "raw",
   "id": "752f165e",
   "metadata": {},
   "source": [
    "Las features de 'localizacion' y 'numero' tampoco serán utilizables, al ser datos que no pueden ser cruzados"
   ]
  },
  {
   "cell_type": "markdown",
   "id": "70776c14",
   "metadata": {},
   "source": [
    "Localizaciones:"
   ]
  },
  {
   "cell_type": "markdown",
   "id": "9caef5f1",
   "metadata": {},
   "source": [
    "Opción 1:\n",
    "Ubicacion de los distritos"
   ]
  },
  {
   "cell_type": "code",
   "execution_count": null,
   "id": "2f0d2007",
   "metadata": {},
   "outputs": [],
   "source": [
    "accidents_2020_df[('distrito')]['contador'].sum()"
   ]
  },
  {
   "cell_type": "code",
   "execution_count": null,
   "id": "60fecda4",
   "metadata": {},
   "outputs": [],
   "source": []
  },
  {
   "cell_type": "raw",
   "id": "0b638c54",
   "metadata": {},
   "source": [
    "Opción 2:\n",
    "coordenada_x_utm , coordenada_y_utm"
   ]
  },
  {
   "cell_type": "code",
   "execution_count": null,
   "id": "d83011dd",
   "metadata": {},
   "outputs": [],
   "source": [
    "from rdflib import Graph"
   ]
  },
  {
   "cell_type": "code",
   "execution_count": null,
   "id": "669afb8b",
   "metadata": {},
   "outputs": [],
   "source": [
    "\n",
    "\n",
    "g = Graph()\n",
    "g.parse(\"/home/dsc/Master DS/TFM/datos accidentes/300228-0-accidentes-trafico-detalle.dcat\")\n",
    "\n",
    "print(len(g))\n",
    "# prints: 2\n",
    "\n",
    "import pprint\n",
    "for stmt in g:\n",
    "    pprint.pprint(stmt)"
   ]
  },
  {
   "cell_type": "code",
   "execution_count": null,
   "id": "1022c740",
   "metadata": {},
   "outputs": [],
   "source": []
  },
  {
   "cell_type": "code",
   "execution_count": null,
   "id": "d71a0fb1",
   "metadata": {},
   "outputs": [],
   "source": []
  },
  {
   "cell_type": "code",
   "execution_count": null,
   "id": "d48dfb34",
   "metadata": {},
   "outputs": [],
   "source": []
  },
  {
   "cell_type": "code",
   "execution_count": null,
   "id": "3c52b542",
   "metadata": {},
   "outputs": [],
   "source": []
  },
  {
   "cell_type": "code",
   "execution_count": null,
   "id": "f17f2af7",
   "metadata": {},
   "outputs": [],
   "source": []
  }
 ],
 "metadata": {
  "kernelspec": {
   "display_name": "Python 3 (ipykernel)",
   "language": "python",
   "name": "python3"
  },
  "language_info": {
   "codemirror_mode": {
    "name": "ipython",
    "version": 3
   },
   "file_extension": ".py",
   "mimetype": "text/x-python",
   "name": "python",
   "nbconvert_exporter": "python",
   "pygments_lexer": "ipython3",
   "version": "3.8.2"
  }
 },
 "nbformat": 4,
 "nbformat_minor": 5
}
